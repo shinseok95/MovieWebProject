{
  "nbformat": 4,
  "nbformat_minor": 0,
  "metadata": {
    "colab": {
      "name": "Untitled8.ipynb",
      "provenance": [],
      "collapsed_sections": [],
      "authorship_tag": "ABX9TyNq5SON2wL16pvzjypRmXtW",
      "include_colab_link": true
    },
    "kernelspec": {
      "name": "python3",
      "display_name": "Python 3"
    }
  },
  "cells": [
    {
      "cell_type": "markdown",
      "metadata": {
        "id": "view-in-github",
        "colab_type": "text"
      },
      "source": [
        "<a href=\"https://colab.research.google.com/github/shinseok95/MovieWebProject/blob/master/Untitled8.ipynb\" target=\"_parent\"><img src=\"https://colab.research.google.com/assets/colab-badge.svg\" alt=\"Open In Colab\"/></a>"
      ]
    },
    {
      "cell_type": "code",
      "metadata": {
        "id": "dA1wQqBxa-Fz",
        "colab_type": "code",
        "colab": {}
      },
      "source": [
        "dataset = [[2.7810836,2.550537003,0],\n",
        "\t[1.465489372,2.362125076,0],\n",
        "\t[3.396561688,4.400293529,0],\n",
        "\t[1.38807019,1.850220317,0],\n",
        "\t[3.06407232,3.005305973,0],\n",
        "\t[7.627531214,2.759262235,1],\n",
        "\t[5.332441248,2.088626775,1],\n",
        "\t[6.922596716,1.77106367,1],\n",
        "\t[8.675418651,-0.242068655,1],\n",
        "\t[7.673756466,3.508563011,1]]"
      ],
      "execution_count": 1,
      "outputs": []
    },
    {
      "cell_type": "code",
      "metadata": {
        "id": "018f-sGcbE-C",
        "colab_type": "code",
        "colab": {}
      },
      "source": [
        "from math import sqrt\n",
        "\n",
        "# euclidean distance calculator\n",
        "\n",
        "def euclidean_distance(row1, row2):\n",
        "  distance = 0.0\n",
        "  for i in range(len(row1)-1):\n",
        "    distance += (row1[i]-row2[i])**2\n",
        "    return sqrt(distance)\n",
        "\n",
        "# Locate the most similar neighbors\n",
        "\n",
        "def get_neigbors(train, test_row, num_neighbors):\n",
        "  distances = list()\n",
        "  for train_now in train:\n",
        "    dist = euclidean_distance(test_row,train_now)\n",
        "    distances.append((train_now,dist))\n",
        "  \n",
        "  distances.sort(key=lambda key_value : key_value[1])\n",
        "\n",
        "  neighbors = list()\n",
        "  for i in range(num_neighbors):\n",
        "    neighbors.append(distances[i][0])\n",
        "\n",
        "  return neighbors\n",
        "\n",
        "# Make a classification prediction with neighbors\n",
        "\n",
        "def predict_classfication(train, test_now, num_neighbors):\n",
        "  neighbors = get_neigbors(train,test_now,num_neighbors)\n",
        "  for neighbor in neighbors:\n",
        "    print(neighbor)\n",
        "\n",
        "  output_values = [row[-1] for row in neighbors]\n",
        "  prediction = max(set(output_values),key=output_values.count)\n",
        "  return prediction\n"
      ],
      "execution_count": 15,
      "outputs": []
    },
    {
      "cell_type": "code",
      "metadata": {
        "id": "fMXBvjvHbTjh",
        "colab_type": "code",
        "colab": {
          "base_uri": "https://localhost:8080/",
          "height": 83
        },
        "outputId": "b29a358a-7ecd-43dc-c72e-9b98a5f6670b"
      },
      "source": [
        "row0 = [6,5,0]\n",
        "\n",
        "prediction = predict_classfication(dataset, row0, 3)\n",
        "print('Expected %d, Got %d.' % (row0[-1], prediction))"
      ],
      "execution_count": 17,
      "outputs": [
        {
          "output_type": "stream",
          "text": [
            "[5.332441248, 2.088626775, 1]\n",
            "[6.922596716, 1.77106367, 1]\n",
            "[7.627531214, 2.759262235, 1]\n",
            "Expected 0, Got 1.\n"
          ],
          "name": "stdout"
        }
      ]
    }
  ]
}